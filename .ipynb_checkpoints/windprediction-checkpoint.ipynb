{
 "cells": [
  {
   "cell_type": "code",
   "execution_count": 27,
   "metadata": {},
   "outputs": [],
   "source": [
    "import pandas as pd\n",
    "import pickle\n"
   ]
  },
  {
   "cell_type": "code",
   "execution_count": null,
   "metadata": {},
   "outputs": [],
   "source": [
    "dd=pd.read_html(\"http://127.0.0.1:5009/csv\")[0]"
   ]
  },
  {
   "cell_type": "code",
   "execution_count": 38,
   "metadata": {},
   "outputs": [],
   "source": [
    "height=140\n",
    "weight=10\n",
    "cond_df=dd.copy()"
   ]
  },
  {
   "cell_type": "code",
   "execution_count": 39,
   "metadata": {},
   "outputs": [],
   "source": [
    "cond_df=cond_df[cond_df['max_height_10sec_feet'] >= height]\n",
    "new_df=cond_df[cond_df['max_payload_kg'] >= weight]"
   ]
  },
  {
   "cell_type": "code",
   "execution_count": 40,
   "metadata": {
    "scrolled": true
   },
   "outputs": [
    {
     "data": {
      "text/html": [
       "<div>\n",
       "<style scoped>\n",
       "    .dataframe tbody tr th:only-of-type {\n",
       "        vertical-align: middle;\n",
       "    }\n",
       "\n",
       "    .dataframe tbody tr th {\n",
       "        vertical-align: top;\n",
       "    }\n",
       "\n",
       "    .dataframe thead th {\n",
       "        text-align: right;\n",
       "    }\n",
       "</style>\n",
       "<table border=\"1\" class=\"dataframe\">\n",
       "  <thead>\n",
       "    <tr style=\"text-align: right;\">\n",
       "      <th></th>\n",
       "      <th>wind_speed_km/h</th>\n",
       "      <th>advance_ratio</th>\n",
       "      <th>thrust_coef</th>\n",
       "      <th>power_coef</th>\n",
       "      <th>PWR</th>\n",
       "      <th>Torque</th>\n",
       "      <th>Thrust</th>\n",
       "      <th>RPM</th>\n",
       "      <th>model</th>\n",
       "      <th>prop_diam</th>\n",
       "      <th>max_height_10sec_feet</th>\n",
       "      <th>max_payload_kg</th>\n",
       "      <th>efficiency</th>\n",
       "    </tr>\n",
       "  </thead>\n",
       "  <tbody>\n",
       "    <tr>\n",
       "      <th>18</th>\n",
       "      <td>12.63</td>\n",
       "      <td>0.14</td>\n",
       "      <td>0.0834</td>\n",
       "      <td>0.0348</td>\n",
       "      <td>4.668</td>\n",
       "      <td>22.629</td>\n",
       "      <td>22.741</td>\n",
       "      <td>13000</td>\n",
       "      <td>136</td>\n",
       "      <td>15</td>\n",
       "      <td>152</td>\n",
       "      <td>11.576196</td>\n",
       "      <td>0.3412</td>\n",
       "    </tr>\n",
       "    <tr>\n",
       "      <th>77</th>\n",
       "      <td>10.35</td>\n",
       "      <td>0.25</td>\n",
       "      <td>0.0330</td>\n",
       "      <td>0.0163</td>\n",
       "      <td>0.001</td>\n",
       "      <td>0.063</td>\n",
       "      <td>0.053</td>\n",
       "      <td>1000</td>\n",
       "      <td>133</td>\n",
       "      <td>15</td>\n",
       "      <td>185</td>\n",
       "      <td>11.123219</td>\n",
       "      <td>0.5013</td>\n",
       "    </tr>\n",
       "    <tr>\n",
       "      <th>134</th>\n",
       "      <td>13.16</td>\n",
       "      <td>0.79</td>\n",
       "      <td>0.0052</td>\n",
       "      <td>0.0081</td>\n",
       "      <td>0.009</td>\n",
       "      <td>0.198</td>\n",
       "      <td>0.058</td>\n",
       "      <td>3000</td>\n",
       "      <td>132</td>\n",
       "      <td>14</td>\n",
       "      <td>167</td>\n",
       "      <td>10.706788</td>\n",
       "      <td>0.5152</td>\n",
       "    </tr>\n",
       "    <tr>\n",
       "      <th>138</th>\n",
       "      <td>18.45</td>\n",
       "      <td>0.83</td>\n",
       "      <td>0.0213</td>\n",
       "      <td>0.0213</td>\n",
       "      <td>0.310</td>\n",
       "      <td>2.174</td>\n",
       "      <td>1.138</td>\n",
       "      <td>9000</td>\n",
       "      <td>79</td>\n",
       "      <td>12</td>\n",
       "      <td>155</td>\n",
       "      <td>10.457322</td>\n",
       "      <td>0.8257</td>\n",
       "    </tr>\n",
       "    <tr>\n",
       "      <th>245</th>\n",
       "      <td>15.84</td>\n",
       "      <td>0.79</td>\n",
       "      <td>0.0431</td>\n",
       "      <td>0.0400</td>\n",
       "      <td>0.253</td>\n",
       "      <td>2.657</td>\n",
       "      <td>1.390</td>\n",
       "      <td>6000</td>\n",
       "      <td>84</td>\n",
       "      <td>13</td>\n",
       "      <td>140</td>\n",
       "      <td>10.169947</td>\n",
       "      <td>0.8562</td>\n",
       "    </tr>\n",
       "    <tr>\n",
       "      <th>...</th>\n",
       "      <td>...</td>\n",
       "      <td>...</td>\n",
       "      <td>...</td>\n",
       "      <td>...</td>\n",
       "      <td>...</td>\n",
       "      <td>...</td>\n",
       "      <td>...</td>\n",
       "      <td>...</td>\n",
       "      <td>...</td>\n",
       "      <td>...</td>\n",
       "      <td>...</td>\n",
       "      <td>...</td>\n",
       "      <td>...</td>\n",
       "    </tr>\n",
       "    <tr>\n",
       "      <th>49769</th>\n",
       "      <td>11.06</td>\n",
       "      <td>0.37</td>\n",
       "      <td>0.0431</td>\n",
       "      <td>0.0261</td>\n",
       "      <td>0.013</td>\n",
       "      <td>0.401</td>\n",
       "      <td>0.278</td>\n",
       "      <td>2000</td>\n",
       "      <td>135</td>\n",
       "      <td>15</td>\n",
       "      <td>142</td>\n",
       "      <td>10.791126</td>\n",
       "      <td>0.6150</td>\n",
       "    </tr>\n",
       "    <tr>\n",
       "      <th>49774</th>\n",
       "      <td>10.70</td>\n",
       "      <td>0.53</td>\n",
       "      <td>0.1049</td>\n",
       "      <td>0.0847</td>\n",
       "      <td>0.004</td>\n",
       "      <td>0.231</td>\n",
       "      <td>0.128</td>\n",
       "      <td>1000</td>\n",
       "      <td>118</td>\n",
       "      <td>14</td>\n",
       "      <td>170</td>\n",
       "      <td>10.164190</td>\n",
       "      <td>0.6527</td>\n",
       "    </tr>\n",
       "    <tr>\n",
       "      <th>49832</th>\n",
       "      <td>11.57</td>\n",
       "      <td>0.14</td>\n",
       "      <td>0.1029</td>\n",
       "      <td>0.0638</td>\n",
       "      <td>1.363</td>\n",
       "      <td>9.544</td>\n",
       "      <td>7.471</td>\n",
       "      <td>9000</td>\n",
       "      <td>107</td>\n",
       "      <td>13</td>\n",
       "      <td>164</td>\n",
       "      <td>11.009119</td>\n",
       "      <td>0.2299</td>\n",
       "    </tr>\n",
       "    <tr>\n",
       "      <th>49905</th>\n",
       "      <td>11.76</td>\n",
       "      <td>0.14</td>\n",
       "      <td>0.0629</td>\n",
       "      <td>0.0224</td>\n",
       "      <td>0.644</td>\n",
       "      <td>4.061</td>\n",
       "      <td>5.548</td>\n",
       "      <td>10000</td>\n",
       "      <td>92</td>\n",
       "      <td>13</td>\n",
       "      <td>141</td>\n",
       "      <td>11.006494</td>\n",
       "      <td>0.4045</td>\n",
       "    </tr>\n",
       "    <tr>\n",
       "      <th>49980</th>\n",
       "      <td>11.28</td>\n",
       "      <td>0.11</td>\n",
       "      <td>0.0646</td>\n",
       "      <td>0.0223</td>\n",
       "      <td>0.698</td>\n",
       "      <td>5.500</td>\n",
       "      <td>6.671</td>\n",
       "      <td>8000</td>\n",
       "      <td>134</td>\n",
       "      <td>15</td>\n",
       "      <td>142</td>\n",
       "      <td>11.849896</td>\n",
       "      <td>0.3261</td>\n",
       "    </tr>\n",
       "  </tbody>\n",
       "</table>\n",
       "<p>1003 rows × 13 columns</p>\n",
       "</div>"
      ],
      "text/plain": [
       "       wind_speed_km/h  advance_ratio  thrust_coef  power_coef    PWR  Torque  \\\n",
       "18               12.63           0.14       0.0834      0.0348  4.668  22.629   \n",
       "77               10.35           0.25       0.0330      0.0163  0.001   0.063   \n",
       "134              13.16           0.79       0.0052      0.0081  0.009   0.198   \n",
       "138              18.45           0.83       0.0213      0.0213  0.310   2.174   \n",
       "245              15.84           0.79       0.0431      0.0400  0.253   2.657   \n",
       "...                ...            ...          ...         ...    ...     ...   \n",
       "49769            11.06           0.37       0.0431      0.0261  0.013   0.401   \n",
       "49774            10.70           0.53       0.1049      0.0847  0.004   0.231   \n",
       "49832            11.57           0.14       0.1029      0.0638  1.363   9.544   \n",
       "49905            11.76           0.14       0.0629      0.0224  0.644   4.061   \n",
       "49980            11.28           0.11       0.0646      0.0223  0.698   5.500   \n",
       "\n",
       "       Thrust    RPM  model  prop_diam  max_height_10sec_feet  max_payload_kg  \\\n",
       "18     22.741  13000    136         15                    152       11.576196   \n",
       "77      0.053   1000    133         15                    185       11.123219   \n",
       "134     0.058   3000    132         14                    167       10.706788   \n",
       "138     1.138   9000     79         12                    155       10.457322   \n",
       "245     1.390   6000     84         13                    140       10.169947   \n",
       "...       ...    ...    ...        ...                    ...             ...   \n",
       "49769   0.278   2000    135         15                    142       10.791126   \n",
       "49774   0.128   1000    118         14                    170       10.164190   \n",
       "49832   7.471   9000    107         13                    164       11.009119   \n",
       "49905   5.548  10000     92         13                    141       11.006494   \n",
       "49980   6.671   8000    134         15                    142       11.849896   \n",
       "\n",
       "       efficiency  \n",
       "18         0.3412  \n",
       "77         0.5013  \n",
       "134        0.5152  \n",
       "138        0.8257  \n",
       "245        0.8562  \n",
       "...           ...  \n",
       "49769      0.6150  \n",
       "49774      0.6527  \n",
       "49832      0.2299  \n",
       "49905      0.4045  \n",
       "49980      0.3261  \n",
       "\n",
       "[1003 rows x 13 columns]"
      ]
     },
     "execution_count": 40,
     "metadata": {},
     "output_type": "execute_result"
    }
   ],
   "source": [
    "new_df"
   ]
  },
  {
   "cell_type": "code",
   "execution_count": 41,
   "metadata": {},
   "outputs": [],
   "source": [
    "new_df=new_df.drop(['efficiency','wind_speed_km/h'],1)"
   ]
  },
  {
   "cell_type": "code",
   "execution_count": 78,
   "metadata": {},
   "outputs": [],
   "source": [
    "new_df['windspeed']=16.9"
   ]
  },
  {
   "cell_type": "code",
   "execution_count": 80,
   "metadata": {},
   "outputs": [
    {
     "ename": "ValueError",
     "evalue": "Number of features of the model must match the input. Model n_features is 11 and input n_features is 12 ",
     "output_type": "error",
     "traceback": [
      "\u001b[1;31m---------------------------------------------------------------------------\u001b[0m",
      "\u001b[1;31mValueError\u001b[0m                                Traceback (most recent call last)",
      "\u001b[1;32m<ipython-input-80-0ada5d2692ef>\u001b[0m in \u001b[0;36m<module>\u001b[1;34m\u001b[0m\n\u001b[0;32m      5\u001b[0m \u001b[0mscaler\u001b[0m\u001b[1;33m.\u001b[0m\u001b[0mfit\u001b[0m\u001b[1;33m(\u001b[0m\u001b[0mX\u001b[0m\u001b[1;33m)\u001b[0m\u001b[1;33m\u001b[0m\u001b[1;33m\u001b[0m\u001b[0m\n\u001b[0;32m      6\u001b[0m \u001b[0mX\u001b[0m \u001b[1;33m=\u001b[0m \u001b[0mscaler\u001b[0m\u001b[1;33m.\u001b[0m\u001b[0mtransform\u001b[0m\u001b[1;33m(\u001b[0m\u001b[0mX\u001b[0m\u001b[1;33m)\u001b[0m    \u001b[1;31m#standardizing the data for prediction\u001b[0m\u001b[1;33m\u001b[0m\u001b[1;33m\u001b[0m\u001b[0m\n\u001b[1;32m----> 7\u001b[1;33m \u001b[0mnew_df\u001b[0m\u001b[1;33m[\u001b[0m\u001b[1;34m'Predicted Efficiency'\u001b[0m\u001b[1;33m]\u001b[0m \u001b[1;33m=\u001b[0m \u001b[0mmodel\u001b[0m\u001b[1;33m.\u001b[0m\u001b[0mpredict\u001b[0m\u001b[1;33m(\u001b[0m\u001b[0mX\u001b[0m\u001b[1;33m)\u001b[0m\u001b[1;33m\u001b[0m\u001b[1;33m\u001b[0m\u001b[0m\n\u001b[0m\u001b[0;32m      8\u001b[0m \u001b[1;33m\u001b[0m\u001b[0m\n",
      "\u001b[1;32m~\\AppData\\Roaming\\Python\\Python37\\site-packages\\sklearn\\ensemble\\_forest.py\u001b[0m in \u001b[0;36mpredict\u001b[1;34m(self, X)\u001b[0m\n\u001b[0;32m    781\u001b[0m         \u001b[0mcheck_is_fitted\u001b[0m\u001b[1;33m(\u001b[0m\u001b[0mself\u001b[0m\u001b[1;33m)\u001b[0m\u001b[1;33m\u001b[0m\u001b[1;33m\u001b[0m\u001b[0m\n\u001b[0;32m    782\u001b[0m         \u001b[1;31m# Check data\u001b[0m\u001b[1;33m\u001b[0m\u001b[1;33m\u001b[0m\u001b[1;33m\u001b[0m\u001b[0m\n\u001b[1;32m--> 783\u001b[1;33m         \u001b[0mX\u001b[0m \u001b[1;33m=\u001b[0m \u001b[0mself\u001b[0m\u001b[1;33m.\u001b[0m\u001b[0m_validate_X_predict\u001b[0m\u001b[1;33m(\u001b[0m\u001b[0mX\u001b[0m\u001b[1;33m)\u001b[0m\u001b[1;33m\u001b[0m\u001b[1;33m\u001b[0m\u001b[0m\n\u001b[0m\u001b[0;32m    784\u001b[0m \u001b[1;33m\u001b[0m\u001b[0m\n\u001b[0;32m    785\u001b[0m         \u001b[1;31m# Assign chunk of trees to jobs\u001b[0m\u001b[1;33m\u001b[0m\u001b[1;33m\u001b[0m\u001b[1;33m\u001b[0m\u001b[0m\n",
      "\u001b[1;32m~\\AppData\\Roaming\\Python\\Python37\\site-packages\\sklearn\\ensemble\\_forest.py\u001b[0m in \u001b[0;36m_validate_X_predict\u001b[1;34m(self, X)\u001b[0m\n\u001b[0;32m    419\u001b[0m         \u001b[0mcheck_is_fitted\u001b[0m\u001b[1;33m(\u001b[0m\u001b[0mself\u001b[0m\u001b[1;33m)\u001b[0m\u001b[1;33m\u001b[0m\u001b[1;33m\u001b[0m\u001b[0m\n\u001b[0;32m    420\u001b[0m \u001b[1;33m\u001b[0m\u001b[0m\n\u001b[1;32m--> 421\u001b[1;33m         \u001b[1;32mreturn\u001b[0m \u001b[0mself\u001b[0m\u001b[1;33m.\u001b[0m\u001b[0mestimators_\u001b[0m\u001b[1;33m[\u001b[0m\u001b[1;36m0\u001b[0m\u001b[1;33m]\u001b[0m\u001b[1;33m.\u001b[0m\u001b[0m_validate_X_predict\u001b[0m\u001b[1;33m(\u001b[0m\u001b[0mX\u001b[0m\u001b[1;33m,\u001b[0m \u001b[0mcheck_input\u001b[0m\u001b[1;33m=\u001b[0m\u001b[1;32mTrue\u001b[0m\u001b[1;33m)\u001b[0m\u001b[1;33m\u001b[0m\u001b[1;33m\u001b[0m\u001b[0m\n\u001b[0m\u001b[0;32m    422\u001b[0m \u001b[1;33m\u001b[0m\u001b[0m\n\u001b[0;32m    423\u001b[0m     \u001b[1;33m@\u001b[0m\u001b[0mproperty\u001b[0m\u001b[1;33m\u001b[0m\u001b[1;33m\u001b[0m\u001b[0m\n",
      "\u001b[1;32m~\\AppData\\Roaming\\Python\\Python37\\site-packages\\sklearn\\tree\\_classes.py\u001b[0m in \u001b[0;36m_validate_X_predict\u001b[1;34m(self, X, check_input)\u001b[0m\n\u001b[0;32m    397\u001b[0m                              \u001b[1;34m\"match the input. Model n_features is %s and \"\u001b[0m\u001b[1;33m\u001b[0m\u001b[1;33m\u001b[0m\u001b[0m\n\u001b[0;32m    398\u001b[0m                              \u001b[1;34m\"input n_features is %s \"\u001b[0m\u001b[1;33m\u001b[0m\u001b[1;33m\u001b[0m\u001b[0m\n\u001b[1;32m--> 399\u001b[1;33m                              % (self.n_features_, n_features))\n\u001b[0m\u001b[0;32m    400\u001b[0m \u001b[1;33m\u001b[0m\u001b[0m\n\u001b[0;32m    401\u001b[0m         \u001b[1;32mreturn\u001b[0m \u001b[0mX\u001b[0m\u001b[1;33m\u001b[0m\u001b[1;33m\u001b[0m\u001b[0m\n",
      "\u001b[1;31mValueError\u001b[0m: Number of features of the model must match the input. Model n_features is 11 and input n_features is 12 "
     ]
    }
   ],
   "source": [
    "with open('prop_model.pkl', 'rb') as f:\n",
    "    model = pickle.load(f)\n",
    "X = new_df\n",
    "scaler = StandardScaler()\n",
    "scaler.fit(X)\n",
    "X = scaler.transform(X)    #standardizing the data for prediction\n",
    "new_df['Predicted Efficiency'] = model.predict(X)\n",
    "    "
   ]
  },
  {
   "cell_type": "code",
   "execution_count": null,
   "metadata": {},
   "outputs": [],
   "source": [
    "new_df"
   ]
  },
  {
   "cell_type": "code",
   "execution_count": 86,
   "metadata": {},
   "outputs": [],
   "source": [
    "k=new_df.groupby(['model']).mean()"
   ]
  },
  {
   "cell_type": "code",
   "execution_count": 87,
   "metadata": {},
   "outputs": [],
   "source": [
    "k=k.reset_index()"
   ]
  },
  {
   "cell_type": "code",
   "execution_count": 88,
   "metadata": {},
   "outputs": [
    {
     "data": {
      "text/plain": [
       "4"
      ]
     },
     "execution_count": 88,
     "metadata": {},
     "output_type": "execute_result"
    }
   ],
   "source": [
    "len(k.prop_diam.unique())"
   ]
  },
  {
   "cell_type": "code",
   "execution_count": 135,
   "metadata": {},
   "outputs": [],
   "source": [
    "mm=[]\n",
    "eff=[]"
   ]
  },
  {
   "cell_type": "code",
   "execution_count": 136,
   "metadata": {},
   "outputs": [],
   "source": [
    "for i in range(len(k.prop_diam.unique())):\n",
    "    j=k[k['prop_diam'] == k.prop_diam.unique()[i]].sort_values('Predicted Efficiency', ascending=False)\n",
    "    t=j.model[0:3].values\n",
    "    for w in t:\n",
    "        mm.append(w)\n",
    "    \n",
    "    m=j['Predicted Efficiency'][0:3].values\n",
    "    t=j.model[0:3].values\n",
    "    for a in m:\n",
    "        eff.append(a)"
   ]
  },
  {
   "cell_type": "code",
   "execution_count": 137,
   "metadata": {},
   "outputs": [
    {
     "data": {
      "text/plain": [
       "array([0.70699167, 0.42642   , 0.80525667])"
      ]
     },
     "execution_count": 137,
     "metadata": {},
     "output_type": "execute_result"
    }
   ],
   "source": [
    "k['Predicted Efficiency'][0:3].values"
   ]
  },
  {
   "cell_type": "code",
   "execution_count": 138,
   "metadata": {},
   "outputs": [],
   "source": [
    "predicted_data = {'model':mm, 'efficiency': eff }\n",
    "\n",
    "p_df = pd.DataFrame.from_dict(predicted_data) #convert to dataframe"
   ]
  },
  {
   "cell_type": "code",
   "execution_count": 139,
   "metadata": {},
   "outputs": [
    {
     "data": {
      "text/html": [
       "<div>\n",
       "<style scoped>\n",
       "    .dataframe tbody tr th:only-of-type {\n",
       "        vertical-align: middle;\n",
       "    }\n",
       "\n",
       "    .dataframe tbody tr th {\n",
       "        vertical-align: top;\n",
       "    }\n",
       "\n",
       "    .dataframe thead th {\n",
       "        text-align: right;\n",
       "    }\n",
       "</style>\n",
       "<table border=\"1\" class=\"dataframe\">\n",
       "  <thead>\n",
       "    <tr style=\"text-align: right;\">\n",
       "      <th></th>\n",
       "      <th>model</th>\n",
       "      <th>efficiency</th>\n",
       "    </tr>\n",
       "  </thead>\n",
       "  <tbody>\n",
       "    <tr>\n",
       "      <th>0</th>\n",
       "      <td>56</td>\n",
       "      <td>0.805257</td>\n",
       "    </tr>\n",
       "    <tr>\n",
       "      <th>1</th>\n",
       "      <td>60</td>\n",
       "      <td>0.762064</td>\n",
       "    </tr>\n",
       "    <tr>\n",
       "      <th>2</th>\n",
       "      <td>58</td>\n",
       "      <td>0.761207</td>\n",
       "    </tr>\n",
       "    <tr>\n",
       "      <th>3</th>\n",
       "      <td>89</td>\n",
       "      <td>0.724511</td>\n",
       "    </tr>\n",
       "    <tr>\n",
       "      <th>4</th>\n",
       "      <td>88</td>\n",
       "      <td>0.707069</td>\n",
       "    </tr>\n",
       "    <tr>\n",
       "      <th>5</th>\n",
       "      <td>99</td>\n",
       "      <td>0.647086</td>\n",
       "    </tr>\n",
       "    <tr>\n",
       "      <th>6</th>\n",
       "      <td>116</td>\n",
       "      <td>0.659950</td>\n",
       "    </tr>\n",
       "    <tr>\n",
       "      <th>7</th>\n",
       "      <td>115</td>\n",
       "      <td>0.629911</td>\n",
       "    </tr>\n",
       "    <tr>\n",
       "      <th>8</th>\n",
       "      <td>120</td>\n",
       "      <td>0.627708</td>\n",
       "    </tr>\n",
       "    <tr>\n",
       "      <th>9</th>\n",
       "      <td>137</td>\n",
       "      <td>0.481402</td>\n",
       "    </tr>\n",
       "    <tr>\n",
       "      <th>10</th>\n",
       "      <td>135</td>\n",
       "      <td>0.456672</td>\n",
       "    </tr>\n",
       "    <tr>\n",
       "      <th>11</th>\n",
       "      <td>133</td>\n",
       "      <td>0.412792</td>\n",
       "    </tr>\n",
       "  </tbody>\n",
       "</table>\n",
       "</div>"
      ],
      "text/plain": [
       "    model  efficiency\n",
       "0      56    0.805257\n",
       "1      60    0.762064\n",
       "2      58    0.761207\n",
       "3      89    0.724511\n",
       "4      88    0.707069\n",
       "5      99    0.647086\n",
       "6     116    0.659950\n",
       "7     115    0.629911\n",
       "8     120    0.627708\n",
       "9     137    0.481402\n",
       "10    135    0.456672\n",
       "11    133    0.412792"
      ]
     },
     "execution_count": 139,
     "metadata": {},
     "output_type": "execute_result"
    }
   ],
   "source": [
    "p_df"
   ]
  },
  {
   "cell_type": "code",
   "execution_count": null,
   "metadata": {},
   "outputs": [],
   "source": []
  },
  {
   "cell_type": "code",
   "execution_count": null,
   "metadata": {},
   "outputs": [],
   "source": []
  },
  {
   "cell_type": "code",
   "execution_count": null,
   "metadata": {},
   "outputs": [],
   "source": []
  },
  {
   "cell_type": "code",
   "execution_count": null,
   "metadata": {},
   "outputs": [],
   "source": []
  },
  {
   "cell_type": "code",
   "execution_count": null,
   "metadata": {},
   "outputs": [],
   "source": []
  }
 ],
 "metadata": {
  "kernelspec": {
   "display_name": "Python 3",
   "language": "python",
   "name": "python3"
  },
  "language_info": {
   "codemirror_mode": {
    "name": "ipython",
    "version": 3
   },
   "file_extension": ".py",
   "mimetype": "text/x-python",
   "name": "python",
   "nbconvert_exporter": "python",
   "pygments_lexer": "ipython3",
   "version": "3.7.6"
  }
 },
 "nbformat": 4,
 "nbformat_minor": 4
}
