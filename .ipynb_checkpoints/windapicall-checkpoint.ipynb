{
 "cells": [
  {
   "cell_type": "code",
   "execution_count": 780,
   "metadata": {},
   "outputs": [],
   "source": [
    "from flask import Flask, request\n",
    "import requests\n",
    "import pandas as pd\n",
    "from sklearn.preprocessing import StandardScaler\n",
    "from sklearn.preprocessing import LabelEncoder\n",
    "import matplotlib.pyplot as plt\n",
    "import numpy as np"
   ]
  },
  {
   "cell_type": "code",
   "execution_count": 781,
   "metadata": {},
   "outputs": [],
   "source": [
    "%matplotlib inline"
   ]
  },
  {
   "cell_type": "code",
   "execution_count": 782,
   "metadata": {},
   "outputs": [],
   "source": [
    "city = 'Sydney'\n",
    "days=3\n"
   ]
  },
  {
   "cell_type": "code",
   "execution_count": null,
   "metadata": {},
   "outputs": [],
   "source": [
    "https://api.openweathermap.org/data/2.5/onecall?lat=33.441792&lon=-94.037689&units=metric&exclude=minutely,hourly&appid=43e49f2fb4d17b806dfff389f21f4d27"
   ]
  },
  {
   "cell_type": "code",
   "execution_count": 783,
   "metadata": {},
   "outputs": [],
   "source": [
    "response = requests.get(\"http://api.weatherapi.com/v1/forecast.json?key=34bd69146b154c4088a163709200512&q=\" + city + \"&days=\" + str(days))   "
   ]
  },
  {
   "cell_type": "code",
   "execution_count": 784,
   "metadata": {},
   "outputs": [],
   "source": [
    "wind_dict=response.json()\n",
    "wind_dict=wind_dict['forecast']['forecastday']"
   ]
  },
  {
   "cell_type": "code",
   "execution_count": 785,
   "metadata": {},
   "outputs": [],
   "source": [
    "date=[]\n",
    "speed=[]\n",
    "\n",
    "for i in range(len(wind_dict)):\n",
    "    date.append(wind_dict[i]['date'])\n",
    "    speed. append(wind_dict[i]['day']['maxwind_kph'])"
   ]
  },
  {
   "cell_type": "code",
   "execution_count": null,
   "metadata": {},
   "outputs": [],
   "source": []
  },
  {
   "cell_type": "code",
   "execution_count": 786,
   "metadata": {},
   "outputs": [],
   "source": [
    "wind_forecast_data = {'Date':date, 'wind speed': speed }\n",
    "\n",
    "wind_df = pd.DataFrame.from_dict(wind_forecast_data) #convert to dataframe"
   ]
  },
  {
   "cell_type": "code",
   "execution_count": 787,
   "metadata": {},
   "outputs": [
    {
     "data": {
      "text/html": [
       "<div>\n",
       "<style scoped>\n",
       "    .dataframe tbody tr th:only-of-type {\n",
       "        vertical-align: middle;\n",
       "    }\n",
       "\n",
       "    .dataframe tbody tr th {\n",
       "        vertical-align: top;\n",
       "    }\n",
       "\n",
       "    .dataframe thead th {\n",
       "        text-align: right;\n",
       "    }\n",
       "</style>\n",
       "<table border=\"1\" class=\"dataframe\">\n",
       "  <thead>\n",
       "    <tr style=\"text-align: right;\">\n",
       "      <th></th>\n",
       "      <th>Date</th>\n",
       "      <th>wind speed</th>\n",
       "    </tr>\n",
       "  </thead>\n",
       "  <tbody>\n",
       "    <tr>\n",
       "      <th>0</th>\n",
       "      <td>2020-12-09</td>\n",
       "      <td>25.9</td>\n",
       "    </tr>\n",
       "    <tr>\n",
       "      <th>1</th>\n",
       "      <td>2020-12-10</td>\n",
       "      <td>43.2</td>\n",
       "    </tr>\n",
       "    <tr>\n",
       "      <th>2</th>\n",
       "      <td>2020-12-11</td>\n",
       "      <td>31.7</td>\n",
       "    </tr>\n",
       "  </tbody>\n",
       "</table>\n",
       "</div>"
      ],
      "text/plain": [
       "         Date  wind speed\n",
       "0  2020-12-09        25.9\n",
       "1  2020-12-10        43.2\n",
       "2  2020-12-11        31.7"
      ]
     },
     "execution_count": 787,
     "metadata": {},
     "output_type": "execute_result"
    }
   ],
   "source": [
    "wind_df"
   ]
  },
  {
   "cell_type": "code",
   "execution_count": 788,
   "metadata": {},
   "outputs": [],
   "source": [
    "import pandas as pd\n",
    "import pickle\n"
   ]
  },
  {
   "cell_type": "code",
   "execution_count": 789,
   "metadata": {},
   "outputs": [],
   "source": [
    "dd=pd.read_html(\"http://127.0.0.1:5009/csv\")[0]"
   ]
  },
  {
   "cell_type": "code",
   "execution_count": 790,
   "metadata": {},
   "outputs": [
    {
     "data": {
      "text/plain": [
       "(70000, 13)"
      ]
     },
     "execution_count": 790,
     "metadata": {},
     "output_type": "execute_result"
    }
   ],
   "source": [
    "dd.shape"
   ]
  },
  {
   "cell_type": "code",
   "execution_count": 791,
   "metadata": {},
   "outputs": [],
   "source": [
    "height=100\n",
    "weight=10\n",
    "cond_df=dd.copy()"
   ]
  },
  {
   "cell_type": "code",
   "execution_count": 792,
   "metadata": {},
   "outputs": [],
   "source": [
    "cond_df=cond_df[cond_df['max_height_10sec_feet'] <= height]\n",
    "new_df=cond_df[cond_df['max_payload_kg'] <= weight]"
   ]
  },
  {
   "cell_type": "code",
   "execution_count": 793,
   "metadata": {
    "scrolled": false
   },
   "outputs": [],
   "source": [
    "#new_df"
   ]
  },
  {
   "cell_type": "code",
   "execution_count": 794,
   "metadata": {},
   "outputs": [],
   "source": [
    "new_df=new_df.drop(['Unnamed: 0','efficiency','wind_speed_km/h'],1)"
   ]
  },
  {
   "cell_type": "code",
   "execution_count": 795,
   "metadata": {},
   "outputs": [],
   "source": [
    "new_df['windspeed']=wind_df['wind speed'][1]"
   ]
  },
  {
   "cell_type": "code",
   "execution_count": 796,
   "metadata": {},
   "outputs": [],
   "source": [
    "lb_make = LabelEncoder()\n",
    "new_df.model=lb_make.fit_transform(new_df.model)"
   ]
  },
  {
   "cell_type": "code",
   "execution_count": 797,
   "metadata": {},
   "outputs": [],
   "source": [
    "with open('prop_model.pkl', 'rb') as f:\n",
    "    model = pickle.load(f)\n",
    "X = new_df\n",
    "scaler = StandardScaler()\n",
    "scaler.fit(X)\n",
    "X = scaler.transform(X)    #standardizing the data for prediction\n",
    "new_df['Predicted Efficiency'] = model.predict(X)\n",
    "    "
   ]
  },
  {
   "cell_type": "code",
   "execution_count": 798,
   "metadata": {
    "scrolled": true
   },
   "outputs": [],
   "source": [
    "#new_df"
   ]
  },
  {
   "cell_type": "code",
   "execution_count": 799,
   "metadata": {},
   "outputs": [],
   "source": [
    "new_df.model=lb_make.inverse_transform(new_df.model)"
   ]
  },
  {
   "cell_type": "code",
   "execution_count": 800,
   "metadata": {},
   "outputs": [],
   "source": [
    "k=new_df.groupby(['model']).mean()"
   ]
  },
  {
   "cell_type": "code",
   "execution_count": 801,
   "metadata": {},
   "outputs": [],
   "source": [
    "k=k.reset_index()"
   ]
  },
  {
   "cell_type": "code",
   "execution_count": 802,
   "metadata": {},
   "outputs": [],
   "source": [
    "mm=[]\n",
    "eff=[]"
   ]
  },
  {
   "cell_type": "code",
   "execution_count": 803,
   "metadata": {},
   "outputs": [],
   "source": [
    "if len(k.prop_diam.unique()) < 5:\n",
    "    for i in range(len(k.prop_diam.unique())):\n",
    "        j=k[k['prop_diam'] == k.prop_diam.unique()[i]].sort_values('Predicted Efficiency', ascending=False)\n",
    "        t=j.model[0:3].values\n",
    "        for w in t:\n",
    "            mm.append(w) \n",
    "        m=j['Predicted Efficiency'][0:3].values\n",
    "        t=j.model[0:3].values\n",
    "        for a in m:\n",
    "            eff.append(a)\n",
    "else:\n",
    "    for i in range(len(k.prop_diam.unique())):\n",
    "        j=k[k['prop_diam'] == k.prop_diam.unique()[i]].sort_values('Predicted Efficiency', ascending=False)\n",
    "        b=j.model.tolist()\n",
    "        mm.append(b[0])\n",
    "        v=j['Predicted Efficiency'].tolist()\n",
    "        eff.append(v[0])\n"
   ]
  },
  {
   "cell_type": "code",
   "execution_count": 804,
   "metadata": {},
   "outputs": [],
   "source": [
    "predicted_data = {'model':mm, 'efficiency': eff }\n",
    "\n",
    "p_df = pd.DataFrame.from_dict(predicted_data) #convert to dataframe"
   ]
  },
  {
   "cell_type": "code",
   "execution_count": 805,
   "metadata": {},
   "outputs": [
    {
     "data": {
      "text/html": [
       "<div>\n",
       "<style scoped>\n",
       "    .dataframe tbody tr th:only-of-type {\n",
       "        vertical-align: middle;\n",
       "    }\n",
       "\n",
       "    .dataframe tbody tr th {\n",
       "        vertical-align: top;\n",
       "    }\n",
       "\n",
       "    .dataframe thead th {\n",
       "        text-align: right;\n",
       "    }\n",
       "</style>\n",
       "<table border=\"1\" class=\"dataframe\">\n",
       "  <thead>\n",
       "    <tr style=\"text-align: right;\">\n",
       "      <th></th>\n",
       "      <th>model</th>\n",
       "      <th>efficiency</th>\n",
       "    </tr>\n",
       "  </thead>\n",
       "  <tbody>\n",
       "    <tr>\n",
       "      <th>0</th>\n",
       "      <td>PER3_10x7SF</td>\n",
       "      <td>0.603063</td>\n",
       "    </tr>\n",
       "    <tr>\n",
       "      <th>1</th>\n",
       "      <td>PER3_11x9-4</td>\n",
       "      <td>0.597057</td>\n",
       "    </tr>\n",
       "    <tr>\n",
       "      <th>2</th>\n",
       "      <td>PER3_12x6SF</td>\n",
       "      <td>0.622430</td>\n",
       "    </tr>\n",
       "    <tr>\n",
       "      <th>3</th>\n",
       "      <td>PER3_13x13-4</td>\n",
       "      <td>0.686405</td>\n",
       "    </tr>\n",
       "    <tr>\n",
       "      <th>4</th>\n",
       "      <td>PER3_14x13</td>\n",
       "      <td>0.554584</td>\n",
       "    </tr>\n",
       "    <tr>\n",
       "      <th>5</th>\n",
       "      <td>PER3_15x7</td>\n",
       "      <td>0.436451</td>\n",
       "    </tr>\n",
       "    <tr>\n",
       "      <th>6</th>\n",
       "      <td>PER3_4x4E-3</td>\n",
       "      <td>0.695117</td>\n",
       "    </tr>\n",
       "    <tr>\n",
       "      <th>7</th>\n",
       "      <td>PER3_5x4E-4</td>\n",
       "      <td>0.706196</td>\n",
       "    </tr>\n",
       "    <tr>\n",
       "      <th>8</th>\n",
       "      <td>PER3_6x42E-3</td>\n",
       "      <td>0.639190</td>\n",
       "    </tr>\n",
       "    <tr>\n",
       "      <th>9</th>\n",
       "      <td>PER3_7x65D</td>\n",
       "      <td>0.664406</td>\n",
       "    </tr>\n",
       "    <tr>\n",
       "      <th>10</th>\n",
       "      <td>PER3_8x6SF</td>\n",
       "      <td>0.652384</td>\n",
       "    </tr>\n",
       "    <tr>\n",
       "      <th>11</th>\n",
       "      <td>PER3_9x8E-3</td>\n",
       "      <td>0.669225</td>\n",
       "    </tr>\n",
       "  </tbody>\n",
       "</table>\n",
       "</div>"
      ],
      "text/plain": [
       "           model  efficiency\n",
       "0    PER3_10x7SF    0.603063\n",
       "1    PER3_11x9-4    0.597057\n",
       "2    PER3_12x6SF    0.622430\n",
       "3   PER3_13x13-4    0.686405\n",
       "4     PER3_14x13    0.554584\n",
       "5      PER3_15x7    0.436451\n",
       "6    PER3_4x4E-3    0.695117\n",
       "7    PER3_5x4E-4    0.706196\n",
       "8   PER3_6x42E-3    0.639190\n",
       "9     PER3_7x65D    0.664406\n",
       "10    PER3_8x6SF    0.652384\n",
       "11   PER3_9x8E-3    0.669225"
      ]
     },
     "execution_count": 805,
     "metadata": {},
     "output_type": "execute_result"
    }
   ],
   "source": [
    "p_df"
   ]
  },
  {
   "cell_type": "code",
   "execution_count": 806,
   "metadata": {},
   "outputs": [
    {
     "data": {
      "text/plain": [
       "<matplotlib.axes._subplots.AxesSubplot at 0xef1411c848>"
      ]
     },
     "execution_count": 806,
     "metadata": {},
     "output_type": "execute_result"
    },
    {
     "data": {
      "image/png": "[encoded data removed]",
      "text/plain": [
       "<Figure size 720x360 with 1 Axes>"
      ]
     },
     "metadata": {
      "needs_background": "light"
     },
     "output_type": "display_data"
    }
   ],
   "source": [
    "\n",
    "p_df.plot(x='model',kind='bar', figsize=(10,5))"
   ]
  },
  {
   "cell_type": "code",
   "execution_count": 807,
   "metadata": {},
   "outputs": [
    {
     "data": {
      "text/plain": [
       "['PER3_10x7SF',\n",
       " 'PER3_11x9-4',\n",
       " 'PER3_12x6SF',\n",
       " 'PER3_13x13-4',\n",
       " 'PER3_14x13',\n",
       " 'PER3_15x7',\n",
       " 'PER3_4x4E-3',\n",
       " 'PER3_5x4E-4',\n",
       " 'PER3_6x42E-3',\n",
       " 'PER3_7x65D',\n",
       " 'PER3_8x6SF',\n",
       " 'PER3_9x8E-3']"
      ]
     },
     "execution_count": 807,
     "metadata": {},
     "output_type": "execute_result"
    }
   ],
   "source": [
    "predicted_data['model']"
   ]
  },
  {
   "cell_type": "code",
   "execution_count": 808,
   "metadata": {},
   "outputs": [
    {
     "data": {
      "text/plain": [
       "['PER3_10x7SF',\n",
       " 'PER3_11x9-4',\n",
       " 'PER3_12x6SF',\n",
       " 'PER3_13x13-4',\n",
       " 'PER3_14x13',\n",
       " 'PER3_15x7',\n",
       " 'PER3_4x4E-3',\n",
       " 'PER3_5x4E-4',\n",
       " 'PER3_6x42E-3',\n",
       " 'PER3_7x65D',\n",
       " 'PER3_8x6SF',\n",
       " 'PER3_9x8E-3']"
      ]
     },
     "execution_count": 808,
     "metadata": {},
     "output_type": "execute_result"
    }
   ],
   "source": [
    "p_df.model.to_list()"
   ]
  },
  {
   "cell_type": "code",
   "execution_count": null,
   "metadata": {},
   "outputs": [],
   "source": []
  },
  {
   "cell_type": "code",
   "execution_count": null,
   "metadata": {},
   "outputs": [],
   "source": []
  },
  {
   "cell_type": "code",
   "execution_count": 867,
   "metadata": {},
   "outputs": [],
   "source": [
    "cond_df=cond_df[cond_df['max_height_10sec_feet'] <= height]\n",
    "new_df=cond_df[cond_df['max_payload_kg'] <= weight]"
   ]
  },
  {
   "cell_type": "code",
   "execution_count": 868,
   "metadata": {},
   "outputs": [],
   "source": [
    "def forecast(df,i):\n",
    "    pred=df[np.isin(df, predicted_data['model']).any(axis=1)]\n",
    "    pred.reset_index(inplace=True)\n",
    "    pred=pred.drop(['Unnamed: 0','index','efficiency','wind_speed_km/h'],1)\n",
    "    pred['windspeed']=wind_df['wind speed'][i]\n",
    "    pred.model=lb_make.fit_transform(pred.model)\n",
    "    X = pred\n",
    "    scaler = StandardScaler()\n",
    "    scaler.fit(X)\n",
    "    X = scaler.transform(X)    #standardizing the data for prediction\n",
    "    pred['Predicted Efficiency'] = model.predict(X)\n",
    "    pred.model=lb_make.inverse_transform(pred.model)\n",
    "    kk=pred.groupby(['model']).max()\n",
    "    k=kk.reset_index()\n",
    "    mm=[]\n",
    "    eff=[]\n",
    "    if len(k.prop_diam.unique()) < 5:\n",
    "        for i in range(len(k.prop_diam.unique())):\n",
    "            j=k[k['prop_diam'] == k.prop_diam.unique()[i]].sort_values('Predicted Efficiency', ascending=False)\n",
    "            t=j.model[0:3].values\n",
    "            for w in t:\n",
    "                mm.append(w) \n",
    "            m=j['Predicted Efficiency'][0:3].values\n",
    "            t=j.model[0:3].values\n",
    "            for a in m:\n",
    "                eff.append(a)\n",
    "    else:\n",
    "        for i in range(len(k.prop_diam.unique())):\n",
    "            j=k[k['prop_diam'] == k.prop_diam.unique()[i]].sort_values('Predicted Efficiency', ascending=False)\n",
    "            b=j.model.tolist()\n",
    "            mm.append(b[0])\n",
    "            v=j['Predicted Efficiency'].tolist()\n",
    "            eff.append(v[0])\n",
    "    return eff"
   ]
  },
  {
   "cell_type": "code",
   "execution_count": 869,
   "metadata": {},
   "outputs": [],
   "source": [
    "check={}"
   ]
  },
  {
   "cell_type": "code",
   "execution_count": 870,
   "metadata": {},
   "outputs": [],
   "source": [
    "for i in range(1,len(wind_df['wind speed'])):\n",
    "    check[i]=forecast(new_df,i)"
   ]
  },
  {
   "cell_type": "code",
   "execution_count": 871,
   "metadata": {},
   "outputs": [],
   "source": [
    "dff = pd.DataFrame.from_dict(check) #convert to dataframe"
   ]
  },
  {
   "cell_type": "code",
   "execution_count": 872,
   "metadata": {},
   "outputs": [],
   "source": [
    "dff['model']=mm"
   ]
  },
  {
   "cell_type": "code",
   "execution_count": 873,
   "metadata": {},
   "outputs": [],
   "source": [
    "dff[0]=p_df.efficiency.values"
   ]
  },
  {
   "cell_type": "code",
   "execution_count": 874,
   "metadata": {},
   "outputs": [
    {
     "data": {
      "text/html": [
       "<div>\n",
       "<style scoped>\n",
       "    .dataframe tbody tr th:only-of-type {\n",
       "        vertical-align: middle;\n",
       "    }\n",
       "\n",
       "    .dataframe tbody tr th {\n",
       "        vertical-align: top;\n",
       "    }\n",
       "\n",
       "    .dataframe thead th {\n",
       "        text-align: right;\n",
       "    }\n",
       "</style>\n",
       "<table border=\"1\" class=\"dataframe\">\n",
       "  <thead>\n",
       "    <tr style=\"text-align: right;\">\n",
       "      <th></th>\n",
       "      <th>1</th>\n",
       "      <th>2</th>\n",
       "      <th>model</th>\n",
       "      <th>0</th>\n",
       "    </tr>\n",
       "  </thead>\n",
       "  <tbody>\n",
       "    <tr>\n",
       "      <th>0</th>\n",
       "      <td>0.722360</td>\n",
       "      <td>0.722360</td>\n",
       "      <td>PER3_10x7SF</td>\n",
       "      <td>0.603063</td>\n",
       "    </tr>\n",
       "    <tr>\n",
       "      <th>1</th>\n",
       "      <td>0.747087</td>\n",
       "      <td>0.747087</td>\n",
       "      <td>PER3_11x9-4</td>\n",
       "      <td>0.597057</td>\n",
       "    </tr>\n",
       "    <tr>\n",
       "      <th>2</th>\n",
       "      <td>0.677587</td>\n",
       "      <td>0.677587</td>\n",
       "      <td>PER3_12x6SF</td>\n",
       "      <td>0.622430</td>\n",
       "    </tr>\n",
       "    <tr>\n",
       "      <th>3</th>\n",
       "      <td>0.760940</td>\n",
       "      <td>0.760940</td>\n",
       "      <td>PER3_13x13-4</td>\n",
       "      <td>0.686405</td>\n",
       "    </tr>\n",
       "    <tr>\n",
       "      <th>4</th>\n",
       "      <td>0.579293</td>\n",
       "      <td>0.579293</td>\n",
       "      <td>PER3_14x13</td>\n",
       "      <td>0.554584</td>\n",
       "    </tr>\n",
       "    <tr>\n",
       "      <th>5</th>\n",
       "      <td>0.346820</td>\n",
       "      <td>0.346820</td>\n",
       "      <td>PER3_15x7</td>\n",
       "      <td>0.436451</td>\n",
       "    </tr>\n",
       "    <tr>\n",
       "      <th>6</th>\n",
       "      <td>0.826153</td>\n",
       "      <td>0.826153</td>\n",
       "      <td>PER3_4x4E-3</td>\n",
       "      <td>0.695117</td>\n",
       "    </tr>\n",
       "    <tr>\n",
       "      <th>7</th>\n",
       "      <td>0.827960</td>\n",
       "      <td>0.827960</td>\n",
       "      <td>PER3_5x4E-4</td>\n",
       "      <td>0.706196</td>\n",
       "    </tr>\n",
       "    <tr>\n",
       "      <th>8</th>\n",
       "      <td>0.831287</td>\n",
       "      <td>0.831287</td>\n",
       "      <td>PER3_6x42E-3</td>\n",
       "      <td>0.639190</td>\n",
       "    </tr>\n",
       "    <tr>\n",
       "      <th>9</th>\n",
       "      <td>0.824160</td>\n",
       "      <td>0.824160</td>\n",
       "      <td>PER3_7x65D</td>\n",
       "      <td>0.664406</td>\n",
       "    </tr>\n",
       "    <tr>\n",
       "      <th>10</th>\n",
       "      <td>0.764580</td>\n",
       "      <td>0.764580</td>\n",
       "      <td>PER3_8x6SF</td>\n",
       "      <td>0.652384</td>\n",
       "    </tr>\n",
       "    <tr>\n",
       "      <th>11</th>\n",
       "      <td>0.845967</td>\n",
       "      <td>0.845967</td>\n",
       "      <td>PER3_9x8E-3</td>\n",
       "      <td>0.669225</td>\n",
       "    </tr>\n",
       "  </tbody>\n",
       "</table>\n",
       "</div>"
      ],
      "text/plain": [
       "           1         2         model         0\n",
       "0   0.722360  0.722360   PER3_10x7SF  0.603063\n",
       "1   0.747087  0.747087   PER3_11x9-4  0.597057\n",
       "2   0.677587  0.677587   PER3_12x6SF  0.622430\n",
       "3   0.760940  0.760940  PER3_13x13-4  0.686405\n",
       "4   0.579293  0.579293    PER3_14x13  0.554584\n",
       "5   0.346820  0.346820     PER3_15x7  0.436451\n",
       "6   0.826153  0.826153   PER3_4x4E-3  0.695117\n",
       "7   0.827960  0.827960   PER3_5x4E-4  0.706196\n",
       "8   0.831287  0.831287  PER3_6x42E-3  0.639190\n",
       "9   0.824160  0.824160    PER3_7x65D  0.664406\n",
       "10  0.764580  0.764580    PER3_8x6SF  0.652384\n",
       "11  0.845967  0.845967   PER3_9x8E-3  0.669225"
      ]
     },
     "execution_count": 874,
     "metadata": {},
     "output_type": "execute_result"
    }
   ],
   "source": [
    "dff"
   ]
  },
  {
   "cell_type": "code",
   "execution_count": 875,
   "metadata": {},
   "outputs": [],
   "source": [
    "#dff=dff[['model','0',1]]"
   ]
  },
  {
   "cell_type": "code",
   "execution_count": 876,
   "metadata": {},
   "outputs": [],
   "source": [
    "dff.set_index('model',inplace=True)"
   ]
  },
  {
   "cell_type": "code",
   "execution_count": null,
   "metadata": {},
   "outputs": [],
   "source": []
  },
  {
   "cell_type": "code",
   "execution_count": 877,
   "metadata": {},
   "outputs": [
    {
     "data": {
      "text/html": [
       "<div>\n",
       "<style scoped>\n",
       "    .dataframe tbody tr th:only-of-type {\n",
       "        vertical-align: middle;\n",
       "    }\n",
       "\n",
       "    .dataframe tbody tr th {\n",
       "        vertical-align: top;\n",
       "    }\n",
       "\n",
       "    .dataframe thead th {\n",
       "        text-align: right;\n",
       "    }\n",
       "</style>\n",
       "<table border=\"1\" class=\"dataframe\">\n",
       "  <thead>\n",
       "    <tr style=\"text-align: right;\">\n",
       "      <th></th>\n",
       "      <th>0</th>\n",
       "      <th>1</th>\n",
       "      <th>2</th>\n",
       "    </tr>\n",
       "    <tr>\n",
       "      <th>model</th>\n",
       "      <th></th>\n",
       "      <th></th>\n",
       "      <th></th>\n",
       "    </tr>\n",
       "  </thead>\n",
       "  <tbody>\n",
       "    <tr>\n",
       "      <th>PER3_10x7SF</th>\n",
       "      <td>0.603063</td>\n",
       "      <td>0.722360</td>\n",
       "      <td>0.722360</td>\n",
       "    </tr>\n",
       "    <tr>\n",
       "      <th>PER3_11x9-4</th>\n",
       "      <td>0.597057</td>\n",
       "      <td>0.747087</td>\n",
       "      <td>0.747087</td>\n",
       "    </tr>\n",
       "    <tr>\n",
       "      <th>PER3_12x6SF</th>\n",
       "      <td>0.622430</td>\n",
       "      <td>0.677587</td>\n",
       "      <td>0.677587</td>\n",
       "    </tr>\n",
       "    <tr>\n",
       "      <th>PER3_13x13-4</th>\n",
       "      <td>0.686405</td>\n",
       "      <td>0.760940</td>\n",
       "      <td>0.760940</td>\n",
       "    </tr>\n",
       "    <tr>\n",
       "      <th>PER3_14x13</th>\n",
       "      <td>0.554584</td>\n",
       "      <td>0.579293</td>\n",
       "      <td>0.579293</td>\n",
       "    </tr>\n",
       "    <tr>\n",
       "      <th>PER3_15x7</th>\n",
       "      <td>0.436451</td>\n",
       "      <td>0.346820</td>\n",
       "      <td>0.346820</td>\n",
       "    </tr>\n",
       "    <tr>\n",
       "      <th>PER3_4x4E-3</th>\n",
       "      <td>0.695117</td>\n",
       "      <td>0.826153</td>\n",
       "      <td>0.826153</td>\n",
       "    </tr>\n",
       "    <tr>\n",
       "      <th>PER3_5x4E-4</th>\n",
       "      <td>0.706196</td>\n",
       "      <td>0.827960</td>\n",
       "      <td>0.827960</td>\n",
       "    </tr>\n",
       "    <tr>\n",
       "      <th>PER3_6x42E-3</th>\n",
       "      <td>0.639190</td>\n",
       "      <td>0.831287</td>\n",
       "      <td>0.831287</td>\n",
       "    </tr>\n",
       "    <tr>\n",
       "      <th>PER3_7x65D</th>\n",
       "      <td>0.664406</td>\n",
       "      <td>0.824160</td>\n",
       "      <td>0.824160</td>\n",
       "    </tr>\n",
       "    <tr>\n",
       "      <th>PER3_8x6SF</th>\n",
       "      <td>0.652384</td>\n",
       "      <td>0.764580</td>\n",
       "      <td>0.764580</td>\n",
       "    </tr>\n",
       "    <tr>\n",
       "      <th>PER3_9x8E-3</th>\n",
       "      <td>0.669225</td>\n",
       "      <td>0.845967</td>\n",
       "      <td>0.845967</td>\n",
       "    </tr>\n",
       "  </tbody>\n",
       "</table>\n",
       "</div>"
      ],
      "text/plain": [
       "                     0         1         2\n",
       "model                                     \n",
       "PER3_10x7SF   0.603063  0.722360  0.722360\n",
       "PER3_11x9-4   0.597057  0.747087  0.747087\n",
       "PER3_12x6SF   0.622430  0.677587  0.677587\n",
       "PER3_13x13-4  0.686405  0.760940  0.760940\n",
       "PER3_14x13    0.554584  0.579293  0.579293\n",
       "PER3_15x7     0.436451  0.346820  0.346820\n",
       "PER3_4x4E-3   0.695117  0.826153  0.826153\n",
       "PER3_5x4E-4   0.706196  0.827960  0.827960\n",
       "PER3_6x42E-3  0.639190  0.831287  0.831287\n",
       "PER3_7x65D    0.664406  0.824160  0.824160\n",
       "PER3_8x6SF    0.652384  0.764580  0.764580\n",
       "PER3_9x8E-3   0.669225  0.845967  0.845967"
      ]
     },
     "execution_count": 877,
     "metadata": {},
     "output_type": "execute_result"
    }
   ],
   "source": [
    "dff = dff.reindex(sorted(dff.columns), axis=1)\n",
    "dff"
   ]
  },
  {
   "cell_type": "code",
   "execution_count": 878,
   "metadata": {},
   "outputs": [],
   "source": [
    "dff=dff.transpose()"
   ]
  },
  {
   "cell_type": "code",
   "execution_count": 880,
   "metadata": {},
   "outputs": [
    {
     "data": {
      "text/html": [
       "<div>\n",
       "<style scoped>\n",
       "    .dataframe tbody tr th:only-of-type {\n",
       "        vertical-align: middle;\n",
       "    }\n",
       "\n",
       "    .dataframe tbody tr th {\n",
       "        vertical-align: top;\n",
       "    }\n",
       "\n",
       "    .dataframe thead th {\n",
       "        text-align: right;\n",
       "    }\n",
       "</style>\n",
       "<table border=\"1\" class=\"dataframe\">\n",
       "  <thead>\n",
       "    <tr style=\"text-align: right;\">\n",
       "      <th>model</th>\n",
       "      <th>PER3_10x7SF</th>\n",
       "      <th>PER3_11x9-4</th>\n",
       "      <th>PER3_12x6SF</th>\n",
       "      <th>PER3_13x13-4</th>\n",
       "      <th>PER3_14x13</th>\n",
       "      <th>PER3_15x7</th>\n",
       "      <th>PER3_4x4E-3</th>\n",
       "      <th>PER3_5x4E-4</th>\n",
       "      <th>PER3_6x42E-3</th>\n",
       "      <th>PER3_7x65D</th>\n",
       "      <th>PER3_8x6SF</th>\n",
       "      <th>PER3_9x8E-3</th>\n",
       "    </tr>\n",
       "  </thead>\n",
       "  <tbody>\n",
       "    <tr>\n",
       "      <th>0</th>\n",
       "      <td>0.603063</td>\n",
       "      <td>0.597057</td>\n",
       "      <td>0.622430</td>\n",
       "      <td>0.686405</td>\n",
       "      <td>0.554584</td>\n",
       "      <td>0.436451</td>\n",
       "      <td>0.695117</td>\n",
       "      <td>0.706196</td>\n",
       "      <td>0.639190</td>\n",
       "      <td>0.664406</td>\n",
       "      <td>0.652384</td>\n",
       "      <td>0.669225</td>\n",
       "    </tr>\n",
       "    <tr>\n",
       "      <th>1</th>\n",
       "      <td>0.722360</td>\n",
       "      <td>0.747087</td>\n",
       "      <td>0.677587</td>\n",
       "      <td>0.760940</td>\n",
       "      <td>0.579293</td>\n",
       "      <td>0.346820</td>\n",
       "      <td>0.826153</td>\n",
       "      <td>0.827960</td>\n",
       "      <td>0.831287</td>\n",
       "      <td>0.824160</td>\n",
       "      <td>0.764580</td>\n",
       "      <td>0.845967</td>\n",
       "    </tr>\n",
       "    <tr>\n",
       "      <th>2</th>\n",
       "      <td>0.722360</td>\n",
       "      <td>0.747087</td>\n",
       "      <td>0.677587</td>\n",
       "      <td>0.760940</td>\n",
       "      <td>0.579293</td>\n",
       "      <td>0.346820</td>\n",
       "      <td>0.826153</td>\n",
       "      <td>0.827960</td>\n",
       "      <td>0.831287</td>\n",
       "      <td>0.824160</td>\n",
       "      <td>0.764580</td>\n",
       "      <td>0.845967</td>\n",
       "    </tr>\n",
       "  </tbody>\n",
       "</table>\n",
       "</div>"
      ],
      "text/plain": [
       "model  PER3_10x7SF  PER3_11x9-4  PER3_12x6SF  PER3_13x13-4  PER3_14x13  \\\n",
       "0         0.603063     0.597057     0.622430      0.686405    0.554584   \n",
       "1         0.722360     0.747087     0.677587      0.760940    0.579293   \n",
       "2         0.722360     0.747087     0.677587      0.760940    0.579293   \n",
       "\n",
       "model  PER3_15x7  PER3_4x4E-3  PER3_5x4E-4  PER3_6x42E-3  PER3_7x65D  \\\n",
       "0       0.436451     0.695117     0.706196      0.639190    0.664406   \n",
       "1       0.346820     0.826153     0.827960      0.831287    0.824160   \n",
       "2       0.346820     0.826153     0.827960      0.831287    0.824160   \n",
       "\n",
       "model  PER3_8x6SF  PER3_9x8E-3  \n",
       "0        0.652384     0.669225  \n",
       "1        0.764580     0.845967  \n",
       "2        0.764580     0.845967  "
      ]
     },
     "execution_count": 880,
     "metadata": {},
     "output_type": "execute_result"
    }
   ],
   "source": [
    "dff"
   ]
  },
  {
   "cell_type": "code",
   "execution_count": 881,
   "metadata": {},
   "outputs": [],
   "source": [
    "dff['Date']=wind_df.Date.values"
   ]
  },
  {
   "cell_type": "code",
   "execution_count": 882,
   "metadata": {},
   "outputs": [],
   "source": [
    "dff.set_index('Date', inplace=True)"
   ]
  },
  {
   "cell_type": "code",
   "execution_count": 883,
   "metadata": {},
   "outputs": [],
   "source": [
    "cols = dff.columns\n",
    "In [274]: dff[cols] = dff[cols].apply(pd.to_numeric, errors='coerce')\n",
    "dff.index=pd.to_datetime(dff.index)"
   ]
  },
  {
   "cell_type": "code",
   "execution_count": 884,
   "metadata": {
    "scrolled": true
   },
   "outputs": [
    {
     "data": {
      "text/plain": [
       "<matplotlib.axes._subplots.AxesSubplot at 0xef1636cd08>"
      ]
     },
     "execution_count": 884,
     "metadata": {},
     "output_type": "execute_result"
    },
    {
     "data": {
      "image/png": "[encoded data removed]",
      "text/plain": [
       "<Figure size 1080x576 with 1 Axes>"
      ]
     },
     "metadata": {
      "needs_background": "light"
     },
     "output_type": "display_data"
    }
   ],
   "source": [
    "dff.plot(figsize=(15,8),marker='x')"
   ]
  },
  {
   "cell_type": "code",
   "execution_count": null,
   "metadata": {},
   "outputs": [],
   "source": []
  },
  {
   "cell_type": "code",
   "execution_count": null,
   "metadata": {
    "scrolled": false
   },
   "outputs": [],
   "source": [
    "p_df.plot();"
   ]
  },
  {
   "cell_type": "code",
   "execution_count": null,
   "metadata": {},
   "outputs": [],
   "source": [
    "p_df"
   ]
  },
  {
   "cell_type": "code",
   "execution_count": null,
   "metadata": {},
   "outputs": [],
   "source": [
    "fig=plt.figure(p_df)"
   ]
  },
  {
   "cell_type": "code",
   "execution_count": null,
   "metadata": {},
   "outputs": [],
   "source": [
    "plt.plot(p_df.model,p_df.efficiency)"
   ]
  },
  {
   "cell_type": "code",
   "execution_count": null,
   "metadata": {},
   "outputs": [],
   "source": [
    "plt.savefig('figur.png')\n",
    "plt.show()"
   ]
  },
  {
   "cell_type": "code",
   "execution_count": null,
   "metadata": {},
   "outputs": [],
   "source": []
  },
  {
   "cell_type": "code",
   "execution_count": null,
   "metadata": {},
   "outputs": [],
   "source": [
    "plt.show()"
   ]
  }
 ],
 "metadata": {
  "kernelspec": {
   "display_name": "Python 3",
   "language": "python",
   "name": "python3"
  },
  "language_info": {
   "codemirror_mode": {
    "name": "ipython",
    "version": 3
   },
   "file_extension": ".py",
   "mimetype": "text/x-python",
   "name": "python",
   "nbconvert_exporter": "python",
   "pygments_lexer": "ipython3",
   "version": "3.7.6"
  }
 },
 "nbformat": 4,
 "nbformat_minor": 4
}
